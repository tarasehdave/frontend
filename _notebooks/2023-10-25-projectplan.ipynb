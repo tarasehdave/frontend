{
 "cells": [
  {
   "cell_type": "markdown",
   "metadata": {},
   "source": [
    "---\n",
    "toc: true\n",
    "comments: false\n",
    "layout: post\n",
    "title: Project Plan\n",
    "type: hacks\n",
    "courses: { compsci: {week: 1} }\n",
    "unit: 1\n",
    "---"
   ]
  },
  {
   "cell_type": "markdown",
   "metadata": {},
   "source": [
    "# Grocery Store Project Plan"
   ]
  },
  {
   "cell_type": "markdown",
   "metadata": {},
   "source": [
    "- About Our Team\n",
    "    - Sharon: Scrum master, backend programmer\n",
    "    - Alisha: Frontend lead\n",
    "    - Tara: Backend lead\n",
    "    - Alara: Frontend programmer\n",
    "    - Grace: Backend programmer"
   ]
  },
  {
   "cell_type": "code",
   "execution_count": null,
   "metadata": {},
   "outputs": [],
   "source": []
  }
 ],
 "metadata": {
  "language_info": {
   "name": "python"
  }
 },
 "nbformat": 4,
 "nbformat_minor": 2
}
