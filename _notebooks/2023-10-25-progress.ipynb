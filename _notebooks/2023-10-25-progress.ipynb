{
 "cells": [
  {
   "cell_type": "markdown",
   "metadata": {},
   "source": [
    "---\n",
    "toc: true\n",
    "comments: false\n",
    "layout: post\n",
    "title: Progress and Check-ins\n",
    "type: hacks\n",
    "courses: { compsci: {week: 1} }\n",
    "unit: 1\n",
    "---"
   ]
  },
  {
   "cell_type": "code",
   "execution_count": null,
   "metadata": {},
   "outputs": [],
   "source": [
    "%%html\n",
    "\n",
    "<body>\n",
    "    <table id=\"demo\" class=\"table\">\n",
    "        <thead>\n",
    "            <tr>\n",
    "                <th>Week</th>\n",
    "                <th>What we got done</th>\n",
    "                <th>Goals</th>\n",
    "            </tr>\n",
    "        </thead>\n",
    "        <tbody>\n",
    "            <tr>\n",
    "                <td>1</td>\n",
    "                <td>cloned repositories, drew up plan, divided responsibilities, brainstormed</td>\n",
    "                <td>Get a simple home page, figure out a way to stay organized, everyone stay with their task</td>\n",
    "            </tr>\n",
    "            <tr>\n",
    "                <td>2</td>\n",
    "                <td>Created a basic homepage, dealed with lots of errors, learned more about backend, worked on moving background, began using notion to assign responsibilities</td>\n",
    "                <td>Figure out APIs, add more pages, find a captivating factor in the project, add some styling to make it look good, qualify for n@tm</td>\n",
    "            </tr>"
   ]
  }
 ],
 "metadata": {
  "language_info": {
   "name": "python"
  }
 },
 "nbformat": 4,
 "nbformat_minor": 2
}
