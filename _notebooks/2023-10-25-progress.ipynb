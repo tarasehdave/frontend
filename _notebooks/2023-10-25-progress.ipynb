{
 "cells": [
  {
   "cell_type": "markdown",
   "metadata": {},
   "source": [
    "---\n",
    "toc: true\n",
    "comments: false\n",
    "layout: post\n",
    "title: Progress and Check-ins\n",
    "type: hacks\n",
    "courses: { compsci: {week: 1} }\n",
    "unit: 1\n",
    "---"
   ]
  },
  {
   "cell_type": "code",
   "execution_count": 1,
   "metadata": {},
   "outputs": [
    {
     "data": {
      "text/html": [
       "\n",
       "<body>\n",
       "    <table id=\"demo\" class=\"table\">\n",
       "        <thead>\n",
       "            <tr>\n",
       "                <th>Week</th>\n",
       "                <th>What we got done</th>\n",
       "                <th>Goals</th>\n",
       "            </tr>\n",
       "        </thead>\n",
       "        <tbody>\n",
       "            <tr>\n",
       "                <td>1</td>\n",
       "                <td>cloned repositories, drew up plan, divided responsibilities, brainstormed</td>\n",
       "                <td>Get a simple home page, figure out a way to stay organized, everyone stay with their task</td>\n",
       "            </tr>\n",
       "            <tr>\n",
       "                <td>2</td>\n",
       "                <td>Created a basic homepage, dealed with lots of errors, learned more about backend, worked on moving background, began using notion to assign responsibilities</td>\n",
       "                <td>Figure out APIs, add more pages, find a captivating factor in the project, add some styling to make it look good, qualify for n@tm</td>\n",
       "            </tr>\n"
      ],
      "text/plain": [
       "<IPython.core.display.HTML object>"
      ]
     },
     "metadata": {},
     "output_type": "display_data"
    }
   ],
   "source": [
    "%%html\n",
    "\n",
    "<body>\n",
    "    <table id=\"demo\" class=\"table\">\n",
    "        <thead>\n",
    "            <tr>\n",
    "                <th>Week</th>\n",
    "                <th>What we got done</th>\n",
    "                <th>Goals</th>\n",
    "            </tr>\n",
    "        </thead>\n",
    "        <tbody>\n",
    "            <tr>\n",
    "                <td>1</td>\n",
    "                <td>cloned repositories, drew up plan, divided responsibilities, brainstormed</td>\n",
    "                <td>Get a simple home page, figure out a way to stay organized, everyone stay with their task</td>\n",
    "            </tr>\n",
    "            <tr>\n",
    "                <td>2</td>\n",
    "                <td>Created a basic homepage, dealed with lots of errors, learned more about backend, worked on moving background, began using notion to assign responsibilities</td>\n",
    "                <td>Figure out APIs, add more pages, find a captivating factor in the project, add some styling to make it look good, qualify for n@tm</td>\n",
    "            </tr>"
   ]
  }
 ],
 "metadata": {
  "kernelspec": {
   "display_name": "Python 3",
   "language": "python",
   "name": "python3"
  },
  "language_info": {
   "codemirror_mode": {
    "name": "ipython",
    "version": 3
   },
   "file_extension": ".py",
   "mimetype": "text/x-python",
   "name": "python",
   "nbconvert_exporter": "python",
   "pygments_lexer": "ipython3",
   "version": "3.11.5"
  }
 },
 "nbformat": 4,
 "nbformat_minor": 2
}
